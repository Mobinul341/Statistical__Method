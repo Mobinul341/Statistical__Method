{
 "cells": [
  {
   "cell_type": "code",
   "execution_count": 24,
   "metadata": {},
   "outputs": [
    {
     "name": "stdout",
     "output_type": "stream",
     "text": [
      "             Age  Completed years of education  GPA of Last Academic Degree  \\\n",
      "count  20.000000                     20.000000                    20.000000   \n",
      "mean   27.500000                   2015.550000                     3.390000   \n",
      "std     4.346808                      4.489461                     0.378293   \n",
      "min    24.000000                   2005.000000                     2.670000   \n",
      "25%    25.000000                   2014.750000                     3.040000   \n",
      "50%    26.000000                   2017.000000                     3.530000   \n",
      "75%    28.500000                   2018.250000                     3.687500   \n",
      "max    40.000000                   2020.000000                     3.870000   \n",
      "\n",
      "       If Yes, Monthly Salary  Expected Salary  \n",
      "count               20.000000        20.000000  \n",
      "mean             35121.200000    217000.000000  \n",
      "std              32118.161307    342315.643814  \n",
      "min                  0.000000     30000.000000  \n",
      "25%               9500.000000     50000.000000  \n",
      "50%              25000.000000     70000.000000  \n",
      "75%              60000.000000    102500.000000  \n",
      "max             111405.000000   1000000.000000  \n"
     ]
    }
   ],
   "source": [
    "import pandas as pd\n",
    "import numpy as np\n",
    "dataa  = pd.read_excel('Mujib_Sir_Data.xlsx')\n",
    "\n",
    "print(dataa.describe())\n",
    "\n",
    "\n",
    "\n"
   ]
  },
  {
   "cell_type": "code",
   "execution_count": 27,
   "metadata": {},
   "outputs": [
    {
     "name": "stdout",
     "output_type": "stream",
     "text": [
      "       Expected Salary\n",
      "count        20.000000\n",
      "mean     217000.000000\n",
      "std      342315.643814\n",
      "min       30000.000000\n",
      "25%       50000.000000\n",
      "50%       70000.000000\n",
      "75%      102500.000000\n",
      "max     1000000.000000\n"
     ]
    }
   ],
   "source": [
    "import pandas as pd\n",
    "import numpy as np\n",
    "dataa  = pd.read_excel('Mujib_Sir_Data.xlsx')\n",
    "dat = pd.DataFrame(dataa, columns = ['Expected Salary'])\n",
    "print(dat.describe())"
   ]
  },
  {
   "cell_type": "code",
   "execution_count": 20,
   "metadata": {},
   "outputs": [
    {
     "name": "stdout",
     "output_type": "stream",
     "text": [
      "col_0   Count\n",
      "Gender       \n",
      "Female      3\n",
      "Male       17\n"
     ]
    }
   ],
   "source": [
    "import pandas as pd\n",
    "\n",
    "\n",
    "dataa  = pd.read_excel('Mujib_Sir_Data.xlsx')\n",
    "dat = pd.DataFrame(dataa, columns = ['Gender', 'Currently Employed or Not'])\n",
    "\n",
    "cros = pd.crosstab(index = dat['Gender'], columns = 'Count')\n",
    "print(cros)\n",
    "\n"
   ]
  },
  {
   "cell_type": "code",
   "execution_count": 12,
   "metadata": {},
   "outputs": [
    {
     "name": "stdout",
     "output_type": "stream",
     "text": [
      "col_0                      Count\n",
      "Currently Employed or Not       \n",
      "No                             7\n",
      "Yes                           13\n"
     ]
    }
   ],
   "source": [
    "import pandas as pd\n",
    "import numpy as np\n",
    "\n",
    "dataa  = pd.read_excel('Mujib_Sir_Data.xlsx')\n",
    "dat = pd.DataFrame(dataa, columns = ['Currently Employed or Not'])\n",
    "\n",
    "cros = pd.crosstab(index = dat['Currently Employed or Not'], columns = 'Count')\n",
    "print(cros)\n"
   ]
  },
  {
   "cell_type": "code",
   "execution_count": 15,
   "metadata": {},
   "outputs": [
    {
     "name": "stdout",
     "output_type": "stream",
     "text": [
      "                    Name  If Yes, Monthly Salary\n",
      "3              T A Robin                  111405\n",
      "6        Jobaer Faruque                    71187\n",
      "8       Md. Rakibul Alam                   60000\n",
      "12  Sayed Rizban Hussain                   60000\n",
      "15    Mehadi Hassan Saki                   89000\n",
      "17          Ishraq Ahmed                   70000\n"
     ]
    }
   ],
   "source": [
    "import pandas as pd\n",
    "import numpy as np\n",
    "\n",
    "dataa  = pd.read_excel('Mujib_Sir_Data.xlsx')\n",
    "dat = pd.DataFrame(dataa, columns = ['Name','If Yes, Monthly Salary'])\n",
    "\n",
    "print(dat[dat['If Yes, Monthly Salary']>40000])\n",
    "\n",
    "\n"
   ]
  },
  {
   "cell_type": "code",
   "execution_count": 3,
   "metadata": {},
   "outputs": [
    {
     "data": {
      "image/png": "[encoded data removed]",
      "text/plain": [
       "<Figure size 432x288 with 1 Axes>"
      ]
     },
     "metadata": {
      "needs_background": "light"
     },
     "output_type": "display_data"
    }
   ],
   "source": [
    "import pandas as pd\n",
    "import matplotlib.pyplot as plt\n",
    "\n",
    "dataa  = pd.read_excel('Mujib_Sir_Data.xlsx')\n",
    "dat = pd.DataFrame(dataa, columns = ['Gender'])\n",
    "\n",
    "\n",
    "\n",
    "gender = dat['Gender']\n",
    "siz = [22]\n",
    "plt.bar( gender, siz)\n",
    "plt.show()\n",
    "\n"
   ]
  },
  {
   "cell_type": "code",
   "execution_count": 7,
   "metadata": {},
   "outputs": [
    {
     "name": "stdout",
     "output_type": "stream",
     "text": [
      "                    Name  Age Gender\n",
      "0     Md Sahadat Hossein   28   Male\n",
      "3              T A Robin   37   Male\n",
      "6        Jobaer Faruque    31   Male\n",
      "8       Md. Rakibul Alam   26   Male\n",
      "10                  Abir   26   Male\n",
      "12  Sayed Rizban Hussain   26   Male\n",
      "14       Md. Mehdi Hasan   40   Male\n",
      "15    Mehadi Hassan Saki   30   Male\n",
      "16         Shaikh Kamran   27   Male\n",
      "17          Ishraq Ahmed   30   Male\n",
      "19         Asim Abdullah   28   Male\n"
     ]
    }
   ],
   "source": [
    "dat = pd.DataFrame(dataa, columns = ['Name', 'Age', 'Gender'])\n",
    "print(dat[dat['Age']>25])\n"
   ]
  },
  {
   "cell_type": "code",
   "execution_count": 13,
   "metadata": {},
   "outputs": [
    {
     "name": "stdout",
     "output_type": "stream",
     "text": [
      "Age    26.0\n",
      "dtype: float64\n"
     ]
    }
   ],
   "source": [
    "dat = pd.DataFrame(dataa, columns = ['Age'])\n",
    "print(dat.median())\n"
   ]
  },
  {
   "cell_type": "code",
   "execution_count": 11,
   "metadata": {},
   "outputs": [
    {
     "name": "stdout",
     "output_type": "stream",
     "text": [
      "   Age  If Yes, Monthly Salary\n",
      "0   25                       0\n"
     ]
    }
   ],
   "source": [
    "dat = pd.DataFrame(dataa, columns = ['Age'])\n",
    "print(dat.mode())"
   ]
  },
  {
   "cell_type": "code",
   "execution_count": 28,
   "metadata": {},
   "outputs": [
    {
     "name": "stdout",
     "output_type": "stream",
     "text": [
      "If Yes, Monthly Salary    25000.0\n",
      "dtype: float64\n"
     ]
    }
   ],
   "source": [
    "dat = pd.DataFrame(dataa, columns = ['If Yes, Monthly Salary'])\n",
    "print(dat.median())"
   ]
  },
  {
   "cell_type": "code",
   "execution_count": 18,
   "metadata": {},
   "outputs": [
    {
     "name": "stdout",
     "output_type": "stream",
     "text": [
      "                             Age  If Yes, Monthly Salary\n",
      "Age                     1.000000                0.587496\n",
      "If Yes, Monthly Salary  0.587496                1.000000\n"
     ]
    }
   ],
   "source": [
    "import numpy as np\n",
    "import scipy as sp\n",
    "\n",
    "dat = pd.DataFrame(dataa, columns = ['Age', 'If Yes, Monthly Salary'])\n",
    "print(dat.corr(method = 'pearson'))"
   ]
  },
  {
   "cell_type": "code",
   "execution_count": 32,
   "metadata": {},
   "outputs": [
    {
     "name": "stdout",
     "output_type": "stream",
     "text": [
      "                        If Yes, Monthly Salary  Expected Salary\n",
      "If Yes, Monthly Salary            1.031576e+09     1.682760e+09\n",
      "Expected Salary                   1.682760e+09     1.171800e+11\n"
     ]
    }
   ],
   "source": [
    "import numpy as np\n",
    "import scipy as sp\n",
    "\n",
    "dat = pd.DataFrame(dataa, columns = ['If Yes, Monthly Salary', 'Expected Salary'])\n",
    "dat2 = pd.DataFrame(dataa, columns = ['Expected Salary'])\n",
    "print(dat.cov())"
   ]
  },
  {
   "cell_type": "code",
   "execution_count": 9,
   "metadata": {},
   "outputs": [
    {
     "name": "stdout",
     "output_type": "stream",
     "text": [
      "Employed: \n",
      " If 'No', reason of not being employed    13\n",
      "dtype: int64\n",
      "Still Student: \n",
      " If 'No', reason of not being employed    5\n",
      "dtype: int64\n"
     ]
    }
   ],
   "source": [
    "import pandas as pd\n",
    "dataa  = pd.read_excel('Mujib_Sir_Data.xlsx')\n",
    "dat = pd.DataFrame(dataa, columns = [\"If 'No', reason of not being employed\"])\n",
    "print(\"Employed: \\n\",dat[dat[\"If 'No', reason of not being employed\"] == \"Employed\"].count())\n",
    "print(\"Still Student: \\n\",dat[dat[\"If 'No', reason of not being employed\"] == \"Still student\"].count())\n",
    "\n"
   ]
  }
 ],
 "metadata": {
  "kernelspec": {
   "display_name": "Python 3",
   "language": "python",
   "name": "python3"
  },
  "language_info": {
   "codemirror_mode": {
    "name": "ipython",
    "version": 3
   },
   "file_extension": ".py",
   "mimetype": "text/x-python",
   "name": "python",
   "nbconvert_exporter": "python",
   "pygments_lexer": "ipython3",
   "version": "3.7.3"
  }
 },
 "nbformat": 4,
 "nbformat_minor": 2
}
